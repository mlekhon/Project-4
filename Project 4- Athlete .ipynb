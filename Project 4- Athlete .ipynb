{
 "cells": [
  {
   "cell_type": "code",
   "execution_count": 4,
   "id": "eef681e7",
   "metadata": {},
   "outputs": [],
   "source": [
    "import pandas as pd\n",
    "import numpy as np\n",
    "import seaborn as sns"
   ]
  },
  {
   "cell_type": "code",
   "execution_count": 5,
   "id": "0dcc3a80",
   "metadata": {},
   "outputs": [],
   "source": [
    "data= pd.read_csv('athlete_events.csv')"
   ]
  },
  {
   "cell_type": "code",
   "execution_count": 6,
   "id": "ea109a17",
   "metadata": {},
   "outputs": [
    {
     "data": {
      "text/html": [
       "<div>\n",
       "<style scoped>\n",
       "    .dataframe tbody tr th:only-of-type {\n",
       "        vertical-align: middle;\n",
       "    }\n",
       "\n",
       "    .dataframe tbody tr th {\n",
       "        vertical-align: top;\n",
       "    }\n",
       "\n",
       "    .dataframe thead th {\n",
       "        text-align: right;\n",
       "    }\n",
       "</style>\n",
       "<table border=\"1\" class=\"dataframe\">\n",
       "  <thead>\n",
       "    <tr style=\"text-align: right;\">\n",
       "      <th></th>\n",
       "      <th>ID</th>\n",
       "      <th>Name</th>\n",
       "      <th>Sex</th>\n",
       "      <th>Age</th>\n",
       "      <th>Height</th>\n",
       "      <th>Weight</th>\n",
       "      <th>Team</th>\n",
       "      <th>NOC</th>\n",
       "      <th>Games</th>\n",
       "      <th>Year</th>\n",
       "      <th>Season</th>\n",
       "      <th>City</th>\n",
       "      <th>Sport</th>\n",
       "      <th>Event</th>\n",
       "      <th>Medal</th>\n",
       "    </tr>\n",
       "  </thead>\n",
       "  <tbody>\n",
       "    <tr>\n",
       "      <th>0</th>\n",
       "      <td>1</td>\n",
       "      <td>A Dijiang</td>\n",
       "      <td>M</td>\n",
       "      <td>24.0</td>\n",
       "      <td>180.0</td>\n",
       "      <td>80.0</td>\n",
       "      <td>China</td>\n",
       "      <td>CHN</td>\n",
       "      <td>1992 Summer</td>\n",
       "      <td>1992</td>\n",
       "      <td>Summer</td>\n",
       "      <td>Barcelona</td>\n",
       "      <td>Basketball</td>\n",
       "      <td>Basketball Men's Basketball</td>\n",
       "      <td>NaN</td>\n",
       "    </tr>\n",
       "    <tr>\n",
       "      <th>1</th>\n",
       "      <td>2</td>\n",
       "      <td>A Lamusi</td>\n",
       "      <td>M</td>\n",
       "      <td>23.0</td>\n",
       "      <td>170.0</td>\n",
       "      <td>60.0</td>\n",
       "      <td>China</td>\n",
       "      <td>CHN</td>\n",
       "      <td>2012 Summer</td>\n",
       "      <td>2012</td>\n",
       "      <td>Summer</td>\n",
       "      <td>London</td>\n",
       "      <td>Judo</td>\n",
       "      <td>Judo Men's Extra-Lightweight</td>\n",
       "      <td>NaN</td>\n",
       "    </tr>\n",
       "    <tr>\n",
       "      <th>2</th>\n",
       "      <td>3</td>\n",
       "      <td>Gunnar Nielsen Aaby</td>\n",
       "      <td>M</td>\n",
       "      <td>24.0</td>\n",
       "      <td>NaN</td>\n",
       "      <td>NaN</td>\n",
       "      <td>Denmark</td>\n",
       "      <td>DEN</td>\n",
       "      <td>1920 Summer</td>\n",
       "      <td>1920</td>\n",
       "      <td>Summer</td>\n",
       "      <td>Antwerpen</td>\n",
       "      <td>Football</td>\n",
       "      <td>Football Men's Football</td>\n",
       "      <td>NaN</td>\n",
       "    </tr>\n",
       "    <tr>\n",
       "      <th>3</th>\n",
       "      <td>4</td>\n",
       "      <td>Edgar Lindenau Aabye</td>\n",
       "      <td>M</td>\n",
       "      <td>34.0</td>\n",
       "      <td>NaN</td>\n",
       "      <td>NaN</td>\n",
       "      <td>Denmark/Sweden</td>\n",
       "      <td>DEN</td>\n",
       "      <td>1900 Summer</td>\n",
       "      <td>1900</td>\n",
       "      <td>Summer</td>\n",
       "      <td>Paris</td>\n",
       "      <td>Tug-Of-War</td>\n",
       "      <td>Tug-Of-War Men's Tug-Of-War</td>\n",
       "      <td>Gold</td>\n",
       "    </tr>\n",
       "    <tr>\n",
       "      <th>4</th>\n",
       "      <td>5</td>\n",
       "      <td>Christine Jacoba Aaftink</td>\n",
       "      <td>F</td>\n",
       "      <td>21.0</td>\n",
       "      <td>185.0</td>\n",
       "      <td>82.0</td>\n",
       "      <td>Netherlands</td>\n",
       "      <td>NED</td>\n",
       "      <td>1988 Winter</td>\n",
       "      <td>1988</td>\n",
       "      <td>Winter</td>\n",
       "      <td>Calgary</td>\n",
       "      <td>Speed Skating</td>\n",
       "      <td>Speed Skating Women's 500 metres</td>\n",
       "      <td>NaN</td>\n",
       "    </tr>\n",
       "  </tbody>\n",
       "</table>\n",
       "</div>"
      ],
      "text/plain": [
       "   ID                      Name Sex   Age  Height  Weight            Team  \\\n",
       "0   1                 A Dijiang   M  24.0   180.0    80.0           China   \n",
       "1   2                  A Lamusi   M  23.0   170.0    60.0           China   \n",
       "2   3       Gunnar Nielsen Aaby   M  24.0     NaN     NaN         Denmark   \n",
       "3   4      Edgar Lindenau Aabye   M  34.0     NaN     NaN  Denmark/Sweden   \n",
       "4   5  Christine Jacoba Aaftink   F  21.0   185.0    82.0     Netherlands   \n",
       "\n",
       "   NOC        Games  Year  Season       City          Sport  \\\n",
       "0  CHN  1992 Summer  1992  Summer  Barcelona     Basketball   \n",
       "1  CHN  2012 Summer  2012  Summer     London           Judo   \n",
       "2  DEN  1920 Summer  1920  Summer  Antwerpen       Football   \n",
       "3  DEN  1900 Summer  1900  Summer      Paris     Tug-Of-War   \n",
       "4  NED  1988 Winter  1988  Winter    Calgary  Speed Skating   \n",
       "\n",
       "                              Event Medal  \n",
       "0       Basketball Men's Basketball   NaN  \n",
       "1      Judo Men's Extra-Lightweight   NaN  \n",
       "2           Football Men's Football   NaN  \n",
       "3       Tug-Of-War Men's Tug-Of-War  Gold  \n",
       "4  Speed Skating Women's 500 metres   NaN  "
      ]
     },
     "execution_count": 6,
     "metadata": {},
     "output_type": "execute_result"
    }
   ],
   "source": [
    "data.head()"
   ]
  },
  {
   "cell_type": "code",
   "execution_count": 7,
   "id": "4bf7e3d5",
   "metadata": {},
   "outputs": [],
   "source": [
    "from sklearn.experimental import enable_iterative_imputer\n",
    "from sklearn.impute import IterativeImputer"
   ]
  },
  {
   "cell_type": "code",
   "execution_count": 8,
   "id": "70096916",
   "metadata": {},
   "outputs": [],
   "source": [
    "columns_for_imputation = [\"Year\", \"Age\", \"Height\", \"Weight\"]"
   ]
  },
  {
   "cell_type": "code",
   "execution_count": 9,
   "id": "b2279204",
   "metadata": {},
   "outputs": [
    {
     "name": "stdout",
     "output_type": "stream",
     "text": [
      "            ID                      Name Sex   Age      Height     Weight  \\\n",
      "0            1                 A Dijiang   M  24.0  180.000000  80.000000   \n",
      "1            2                  A Lamusi   M  23.0  170.000000  60.000000   \n",
      "2            3       Gunnar Nielsen Aaby   M  24.0  173.815490  70.022222   \n",
      "3            4      Edgar Lindenau Aabye   M  34.0  175.833619  75.252875   \n",
      "4            5  Christine Jacoba Aaftink   F  21.0  185.000000  82.000000   \n",
      "...        ...                       ...  ..   ...         ...        ...   \n",
      "271111  135569                Andrzej ya   M  29.0  179.000000  89.000000   \n",
      "271112  135570                  Piotr ya   M  27.0  176.000000  59.000000   \n",
      "271113  135570                  Piotr ya   M  27.0  176.000000  59.000000   \n",
      "271114  135571        Tomasz Ireneusz ya   M  30.0  185.000000  96.000000   \n",
      "271115  135571        Tomasz Ireneusz ya   M  34.0  185.000000  96.000000   \n",
      "\n",
      "                  Team  NOC        Games    Year  Season            City  \\\n",
      "0                China  CHN  1992 Summer  1992.0  Summer       Barcelona   \n",
      "1                China  CHN  2012 Summer  2012.0  Summer          London   \n",
      "2              Denmark  DEN  1920 Summer  1920.0  Summer       Antwerpen   \n",
      "3       Denmark/Sweden  DEN  1900 Summer  1900.0  Summer           Paris   \n",
      "4          Netherlands  NED  1988 Winter  1988.0  Winter         Calgary   \n",
      "...                ...  ...          ...     ...     ...             ...   \n",
      "271111        Poland-1  POL  1976 Winter  1976.0  Winter       Innsbruck   \n",
      "271112          Poland  POL  2014 Winter  2014.0  Winter           Sochi   \n",
      "271113          Poland  POL  2014 Winter  2014.0  Winter           Sochi   \n",
      "271114          Poland  POL  1998 Winter  1998.0  Winter          Nagano   \n",
      "271115          Poland  POL  2002 Winter  2002.0  Winter  Salt Lake City   \n",
      "\n",
      "                Sport                                     Event Medal  \n",
      "0          Basketball               Basketball Men's Basketball   NaN  \n",
      "1                Judo              Judo Men's Extra-Lightweight   NaN  \n",
      "2            Football                   Football Men's Football   NaN  \n",
      "3          Tug-Of-War               Tug-Of-War Men's Tug-Of-War  Gold  \n",
      "4       Speed Skating          Speed Skating Women's 500 metres   NaN  \n",
      "...               ...                                       ...   ...  \n",
      "271111           Luge                Luge Mixed (Men)'s Doubles   NaN  \n",
      "271112    Ski Jumping  Ski Jumping Men's Large Hill, Individual   NaN  \n",
      "271113    Ski Jumping        Ski Jumping Men's Large Hill, Team   NaN  \n",
      "271114      Bobsleigh                      Bobsleigh Men's Four   NaN  \n",
      "271115      Bobsleigh                      Bobsleigh Men's Four   NaN  \n",
      "\n",
      "[271116 rows x 15 columns]\n"
     ]
    }
   ],
   "source": [
    "imputer = IterativeImputer(random_state=0)\n",
    "data[columns_for_imputation] = imputer.fit_transform(data[columns_for_imputation])\n",
    "print(data)"
   ]
  },
  {
   "cell_type": "code",
   "execution_count": 10,
   "id": "df295899",
   "metadata": {},
   "outputs": [
    {
     "name": "stdout",
     "output_type": "stream",
     "text": [
      "            ID                      Name Sex   Age      Height     Weight  \\\n",
      "0            1                 A Dijiang   M  24.0  180.000000  80.000000   \n",
      "1            2                  A Lamusi   M  23.0  170.000000  60.000000   \n",
      "2            3       Gunnar Nielsen Aaby   M  24.0  173.815490  70.022222   \n",
      "3            4      Edgar Lindenau Aabye   M  34.0  175.833619  75.252875   \n",
      "4            5  Christine Jacoba Aaftink   F  21.0  185.000000  82.000000   \n",
      "...        ...                       ...  ..   ...         ...        ...   \n",
      "271111  135569                Andrzej ya   M  29.0  179.000000  89.000000   \n",
      "271112  135570                  Piotr ya   M  27.0  176.000000  59.000000   \n",
      "271113  135570                  Piotr ya   M  27.0  176.000000  59.000000   \n",
      "271114  135571        Tomasz Ireneusz ya   M  30.0  185.000000  96.000000   \n",
      "271115  135571        Tomasz Ireneusz ya   M  34.0  185.000000  96.000000   \n",
      "\n",
      "                  Team  NOC        Games    Year  Season            City  \\\n",
      "0                China  CHN  1992 Summer  1992.0  Summer       Barcelona   \n",
      "1                China  CHN  2012 Summer  2012.0  Summer          London   \n",
      "2              Denmark  DEN  1920 Summer  1920.0  Summer       Antwerpen   \n",
      "3       Denmark/Sweden  DEN  1900 Summer  1900.0  Summer           Paris   \n",
      "4          Netherlands  NED  1988 Winter  1988.0  Winter         Calgary   \n",
      "...                ...  ...          ...     ...     ...             ...   \n",
      "271111        Poland-1  POL  1976 Winter  1976.0  Winter       Innsbruck   \n",
      "271112          Poland  POL  2014 Winter  2014.0  Winter           Sochi   \n",
      "271113          Poland  POL  2014 Winter  2014.0  Winter           Sochi   \n",
      "271114          Poland  POL  1998 Winter  1998.0  Winter          Nagano   \n",
      "271115          Poland  POL  2002 Winter  2002.0  Winter  Salt Lake City   \n",
      "\n",
      "                Sport                                     Event Medal  \n",
      "0          Basketball               Basketball Men's Basketball   NaN  \n",
      "1                Judo              Judo Men's Extra-Lightweight   NaN  \n",
      "2            Football                   Football Men's Football   NaN  \n",
      "3          Tug-Of-War               Tug-Of-War Men's Tug-Of-War  Gold  \n",
      "4       Speed Skating          Speed Skating Women's 500 metres   NaN  \n",
      "...               ...                                       ...   ...  \n",
      "271111           Luge                Luge Mixed (Men)'s Doubles   NaN  \n",
      "271112    Ski Jumping  Ski Jumping Men's Large Hill, Individual   NaN  \n",
      "271113    Ski Jumping        Ski Jumping Men's Large Hill, Team   NaN  \n",
      "271114      Bobsleigh                      Bobsleigh Men's Four   NaN  \n",
      "271115      Bobsleigh                      Bobsleigh Men's Four   NaN  \n",
      "\n",
      "[271116 rows x 15 columns]\n"
     ]
    }
   ],
   "source": [
    "min_values = data.min()\n",
    "max_values = data.max()\n",
    "imputer = IterativeImputer(min_value=min_values[columns_for_imputation],\n",
    "                           max_value=max_values[columns_for_imputation],\n",
    "                           random_state=0)\n",
    "imputer = IterativeImputer(min_value=min_values[columns_for_imputation],\n",
    "                           max_value=max_values[columns_for_imputation],\n",
    "                           random_state=0)\n",
    "print(data)"
   ]
  },
  {
   "cell_type": "code",
   "execution_count": 11,
   "id": "f2977688",
   "metadata": {},
   "outputs": [
    {
     "name": "stdout",
     "output_type": "stream",
     "text": [
      "            ID                      Name Sex   Age      Height     Weight  \\\n",
      "0            1                 A Dijiang   M  24.0  180.000000  80.000000   \n",
      "1            2                  A Lamusi   M  23.0  170.000000  60.000000   \n",
      "2            3       Gunnar Nielsen Aaby   M  24.0  173.815490  70.022222   \n",
      "3            4      Edgar Lindenau Aabye   M  34.0  175.833619  75.252875   \n",
      "4            5  Christine Jacoba Aaftink   F  21.0  185.000000  82.000000   \n",
      "...        ...                       ...  ..   ...         ...        ...   \n",
      "271111  135569                Andrzej ya   M  29.0  179.000000  89.000000   \n",
      "271112  135570                  Piotr ya   M  27.0  176.000000  59.000000   \n",
      "271113  135570                  Piotr ya   M  27.0  176.000000  59.000000   \n",
      "271114  135571        Tomasz Ireneusz ya   M  30.0  185.000000  96.000000   \n",
      "271115  135571        Tomasz Ireneusz ya   M  34.0  185.000000  96.000000   \n",
      "\n",
      "                  Team  NOC        Games    Year  Season            City  \\\n",
      "0                China  CHN  1992 Summer  1992.0  Summer       Barcelona   \n",
      "1                China  CHN  2012 Summer  2012.0  Summer          London   \n",
      "2              Denmark  DEN  1920 Summer  1920.0  Summer       Antwerpen   \n",
      "3       Denmark/Sweden  DEN  1900 Summer  1900.0  Summer           Paris   \n",
      "4          Netherlands  NED  1988 Winter  1988.0  Winter         Calgary   \n",
      "...                ...  ...          ...     ...     ...             ...   \n",
      "271111        Poland-1  POL  1976 Winter  1976.0  Winter       Innsbruck   \n",
      "271112          Poland  POL  2014 Winter  2014.0  Winter           Sochi   \n",
      "271113          Poland  POL  2014 Winter  2014.0  Winter           Sochi   \n",
      "271114          Poland  POL  1998 Winter  1998.0  Winter          Nagano   \n",
      "271115          Poland  POL  2002 Winter  2002.0  Winter  Salt Lake City   \n",
      "\n",
      "                Sport                                     Event Medal  \n",
      "0          Basketball               Basketball Men's Basketball   NaN  \n",
      "1                Judo              Judo Men's Extra-Lightweight   NaN  \n",
      "2            Football                   Football Men's Football   NaN  \n",
      "3          Tug-Of-War               Tug-Of-War Men's Tug-Of-War  Gold  \n",
      "4       Speed Skating          Speed Skating Women's 500 metres   NaN  \n",
      "...               ...                                       ...   ...  \n",
      "271111           Luge                Luge Mixed (Men)'s Doubles   NaN  \n",
      "271112    Ski Jumping  Ski Jumping Men's Large Hill, Individual   NaN  \n",
      "271113    Ski Jumping        Ski Jumping Men's Large Hill, Team   NaN  \n",
      "271114      Bobsleigh                      Bobsleigh Men's Four   NaN  \n",
      "271115      Bobsleigh                      Bobsleigh Men's Four   NaN  \n",
      "\n",
      "[271116 rows x 15 columns]\n"
     ]
    }
   ],
   "source": [
    "imputer = IterativeImputer(random_state=0)\n",
    "imputed_array = imputer.fit_transform(data[columns_for_imputation])\n",
    "data[columns_for_imputation] = imputed_array\n",
    "print(data)"
   ]
  },
  {
   "cell_type": "code",
   "execution_count": 12,
   "id": "47afca57",
   "metadata": {},
   "outputs": [
    {
     "name": "stdout",
     "output_type": "stream",
     "text": [
      "            ID                      Name Sex   Age      Height     Weight  \\\n",
      "0            1                 A Dijiang   M  24.0  180.000000  80.000000   \n",
      "1            2                  A Lamusi   M  23.0  170.000000  60.000000   \n",
      "2            3       Gunnar Nielsen Aaby   M  24.0  173.815490  70.022222   \n",
      "3            4      Edgar Lindenau Aabye   M  34.0  175.833619  75.252875   \n",
      "4            5  Christine Jacoba Aaftink   F  21.0  185.000000  82.000000   \n",
      "...        ...                       ...  ..   ...         ...        ...   \n",
      "271111  135569                Andrzej ya   M  29.0  179.000000  89.000000   \n",
      "271112  135570                  Piotr ya   M  27.0  176.000000  59.000000   \n",
      "271113  135570                  Piotr ya   M  27.0  176.000000  59.000000   \n",
      "271114  135571        Tomasz Ireneusz ya   M  30.0  185.000000  96.000000   \n",
      "271115  135571        Tomasz Ireneusz ya   M  34.0  185.000000  96.000000   \n",
      "\n",
      "                  Team  NOC        Games    Year  Season            City  \\\n",
      "0                China  CHN  1992 Summer  1992.0  Summer       Barcelona   \n",
      "1                China  CHN  2012 Summer  2012.0  Summer          London   \n",
      "2              Denmark  DEN  1920 Summer  1920.0  Summer       Antwerpen   \n",
      "3       Denmark/Sweden  DEN  1900 Summer  1900.0  Summer           Paris   \n",
      "4          Netherlands  NED  1988 Winter  1988.0  Winter         Calgary   \n",
      "...                ...  ...          ...     ...     ...             ...   \n",
      "271111        Poland-1  POL  1976 Winter  1976.0  Winter       Innsbruck   \n",
      "271112          Poland  POL  2014 Winter  2014.0  Winter           Sochi   \n",
      "271113          Poland  POL  2014 Winter  2014.0  Winter           Sochi   \n",
      "271114          Poland  POL  1998 Winter  1998.0  Winter          Nagano   \n",
      "271115          Poland  POL  2002 Winter  2002.0  Winter  Salt Lake City   \n",
      "\n",
      "                Sport                                     Event Medal  \n",
      "0          Basketball               Basketball Men's Basketball   NaN  \n",
      "1                Judo              Judo Men's Extra-Lightweight   NaN  \n",
      "2            Football                   Football Men's Football   NaN  \n",
      "3          Tug-Of-War               Tug-Of-War Men's Tug-Of-War  Gold  \n",
      "4       Speed Skating          Speed Skating Women's 500 metres   NaN  \n",
      "...               ...                                       ...   ...  \n",
      "271111           Luge                Luge Mixed (Men)'s Doubles   NaN  \n",
      "271112    Ski Jumping  Ski Jumping Men's Large Hill, Individual   NaN  \n",
      "271113    Ski Jumping        Ski Jumping Men's Large Hill, Team   NaN  \n",
      "271114      Bobsleigh                      Bobsleigh Men's Four   NaN  \n",
      "271115      Bobsleigh                      Bobsleigh Men's Four   NaN  \n",
      "\n",
      "[271116 rows x 15 columns]\n"
     ]
    }
   ],
   "source": [
    "imputer = IterativeImputer(random_state=0)\n",
    "data[columns_for_imputation] = imputer.fit_transform(data[columns_for_imputation])\n",
    "print(data)"
   ]
  },
  {
   "cell_type": "code",
   "execution_count": 13,
   "id": "fa62c764",
   "metadata": {},
   "outputs": [
    {
     "name": "stdout",
     "output_type": "stream",
     "text": [
      "            ID                      Name Sex   Age      Height     Weight  \\\n",
      "0            1                 A Dijiang   M  24.0  180.000000  80.000000   \n",
      "1            2                  A Lamusi   M  23.0  170.000000  60.000000   \n",
      "2            3       Gunnar Nielsen Aaby   M  24.0  173.815490  70.022222   \n",
      "3            4      Edgar Lindenau Aabye   M  34.0  175.833619  75.252875   \n",
      "4            5  Christine Jacoba Aaftink   F  21.0  185.000000  82.000000   \n",
      "...        ...                       ...  ..   ...         ...        ...   \n",
      "271111  135569                Andrzej ya   M  29.0  179.000000  89.000000   \n",
      "271112  135570                  Piotr ya   M  27.0  176.000000  59.000000   \n",
      "271113  135570                  Piotr ya   M  27.0  176.000000  59.000000   \n",
      "271114  135571        Tomasz Ireneusz ya   M  30.0  185.000000  96.000000   \n",
      "271115  135571        Tomasz Ireneusz ya   M  34.0  185.000000  96.000000   \n",
      "\n",
      "                  Team  NOC        Games    Year  Season            City  \\\n",
      "0                China  CHN  1992 Summer  1992.0  Summer       Barcelona   \n",
      "1                China  CHN  2012 Summer  2012.0  Summer          London   \n",
      "2              Denmark  DEN  1920 Summer  1920.0  Summer       Antwerpen   \n",
      "3       Denmark/Sweden  DEN  1900 Summer  1900.0  Summer           Paris   \n",
      "4          Netherlands  NED  1988 Winter  1988.0  Winter         Calgary   \n",
      "...                ...  ...          ...     ...     ...             ...   \n",
      "271111        Poland-1  POL  1976 Winter  1976.0  Winter       Innsbruck   \n",
      "271112          Poland  POL  2014 Winter  2014.0  Winter           Sochi   \n",
      "271113          Poland  POL  2014 Winter  2014.0  Winter           Sochi   \n",
      "271114          Poland  POL  1998 Winter  1998.0  Winter          Nagano   \n",
      "271115          Poland  POL  2002 Winter  2002.0  Winter  Salt Lake City   \n",
      "\n",
      "                Sport                                     Event Medal  \n",
      "0          Basketball               Basketball Men's Basketball    NA  \n",
      "1                Judo              Judo Men's Extra-Lightweight    NA  \n",
      "2            Football                   Football Men's Football    NA  \n",
      "3          Tug-Of-War               Tug-Of-War Men's Tug-Of-War  Gold  \n",
      "4       Speed Skating          Speed Skating Women's 500 metres    NA  \n",
      "...               ...                                       ...   ...  \n",
      "271111           Luge                Luge Mixed (Men)'s Doubles    NA  \n",
      "271112    Ski Jumping  Ski Jumping Men's Large Hill, Individual    NA  \n",
      "271113    Ski Jumping        Ski Jumping Men's Large Hill, Team    NA  \n",
      "271114      Bobsleigh                      Bobsleigh Men's Four    NA  \n",
      "271115      Bobsleigh                      Bobsleigh Men's Four    NA  \n",
      "\n",
      "[271116 rows x 15 columns]\n"
     ]
    }
   ],
   "source": [
    "#Fill the missing values in the column Medal with string of 'NA'\n",
    "data['Medal'].fillna('NA', inplace=True)\n",
    "print(data)"
   ]
  },
  {
   "cell_type": "code",
   "execution_count": 14,
   "id": "437e6f3a",
   "metadata": {},
   "outputs": [
    {
     "name": "stdout",
     "output_type": "stream",
     "text": [
      "            ID                      Name Sex   Age      Height     Weight  \\\n",
      "0            1                 A Dijiang   M  24.0  180.000000  80.000000   \n",
      "1            2                  A Lamusi   M  23.0  170.000000  60.000000   \n",
      "2            3       Gunnar Nielsen Aaby   M  24.0  173.815490  70.022222   \n",
      "3            4      Edgar Lindenau Aabye   M  34.0  175.833619  75.252875   \n",
      "4            5  Christine Jacoba Aaftink   F  21.0  185.000000  82.000000   \n",
      "...        ...                       ...  ..   ...         ...        ...   \n",
      "271111  135569                Andrzej ya   M  29.0  179.000000  89.000000   \n",
      "271112  135570                  Piotr ya   M  27.0  176.000000  59.000000   \n",
      "271113  135570                  Piotr ya   M  27.0  176.000000  59.000000   \n",
      "271114  135571        Tomasz Ireneusz ya   M  30.0  185.000000  96.000000   \n",
      "271115  135571        Tomasz Ireneusz ya   M  34.0  185.000000  96.000000   \n",
      "\n",
      "                  Team  NOC        Games    Year  Season            City  \\\n",
      "0                China  CHN  1992 Summer  1992.0  Summer       Barcelona   \n",
      "1                China  CHN  2012 Summer  2012.0  Summer          London   \n",
      "2              Denmark  DEN  1920 Summer  1920.0  Summer       Antwerpen   \n",
      "3       Denmark/Sweden  DEN  1900 Summer  1900.0  Summer           Paris   \n",
      "4          Netherlands  NED  1988 Winter  1988.0  Winter         Calgary   \n",
      "...                ...  ...          ...     ...     ...             ...   \n",
      "271111        Poland-1  POL  1976 Winter  1976.0  Winter       Innsbruck   \n",
      "271112          Poland  POL  2014 Winter  2014.0  Winter           Sochi   \n",
      "271113          Poland  POL  2014 Winter  2014.0  Winter           Sochi   \n",
      "271114          Poland  POL  1998 Winter  1998.0  Winter          Nagano   \n",
      "271115          Poland  POL  2002 Winter  2002.0  Winter  Salt Lake City   \n",
      "\n",
      "                Sport                                     Event Medal  \n",
      "0          Basketball               Basketball Men's Basketball    NA  \n",
      "1                Judo              Judo Men's Extra-Lightweight    NA  \n",
      "2            Football                   Football Men's Football    NA  \n",
      "3          Tug-Of-War               Tug-Of-War Men's Tug-Of-War  Gold  \n",
      "4       Speed Skating          Speed Skating Women's 500 metres    NA  \n",
      "...               ...                                       ...   ...  \n",
      "271111           Luge                Luge Mixed (Men)'s Doubles    NA  \n",
      "271112    Ski Jumping  Ski Jumping Men's Large Hill, Individual    NA  \n",
      "271113    Ski Jumping        Ski Jumping Men's Large Hill, Team    NA  \n",
      "271114      Bobsleigh                      Bobsleigh Men's Four    NA  \n",
      "271115      Bobsleigh                      Bobsleigh Men's Four    NA  \n",
      "\n",
      "[271116 rows x 15 columns]\n"
     ]
    }
   ],
   "source": [
    "columns_for_imputation = [\"Year\", \"Age\", \"Height\", \"Weight\"]\n",
    "imputer = IterativeImputer(random_state=0)\n",
    "imputer = IterativeImputer(random_state=0)\n",
    "data[columns_for_imputation] = imputed_array\n",
    "data['Medal'].fillna('NA', inplace=True)\n",
    "print(data)"
   ]
  },
  {
   "cell_type": "code",
   "execution_count": 15,
   "id": "2abeb0a3",
   "metadata": {},
   "outputs": [
    {
     "data": {
      "text/html": [
       "<div>\n",
       "<style scoped>\n",
       "    .dataframe tbody tr th:only-of-type {\n",
       "        vertical-align: middle;\n",
       "    }\n",
       "\n",
       "    .dataframe tbody tr th {\n",
       "        vertical-align: top;\n",
       "    }\n",
       "\n",
       "    .dataframe thead th {\n",
       "        text-align: right;\n",
       "    }\n",
       "</style>\n",
       "<table border=\"1\" class=\"dataframe\">\n",
       "  <thead>\n",
       "    <tr style=\"text-align: right;\">\n",
       "      <th></th>\n",
       "      <th>ID</th>\n",
       "      <th>Age</th>\n",
       "      <th>Height</th>\n",
       "      <th>Weight</th>\n",
       "      <th>Year</th>\n",
       "    </tr>\n",
       "  </thead>\n",
       "  <tbody>\n",
       "    <tr>\n",
       "      <th>count</th>\n",
       "      <td>271116.000000</td>\n",
       "      <td>271116.000000</td>\n",
       "      <td>271116.000000</td>\n",
       "      <td>271116.000000</td>\n",
       "      <td>271116.000000</td>\n",
       "    </tr>\n",
       "    <tr>\n",
       "      <th>mean</th>\n",
       "      <td>68248.954396</td>\n",
       "      <td>25.600403</td>\n",
       "      <td>175.280023</td>\n",
       "      <td>70.952865</td>\n",
       "      <td>1978.378480</td>\n",
       "    </tr>\n",
       "    <tr>\n",
       "      <th>std</th>\n",
       "      <td>39022.286345</td>\n",
       "      <td>6.286884</td>\n",
       "      <td>9.348598</td>\n",
       "      <td>12.804721</td>\n",
       "      <td>29.877632</td>\n",
       "    </tr>\n",
       "    <tr>\n",
       "      <th>min</th>\n",
       "      <td>1.000000</td>\n",
       "      <td>10.000000</td>\n",
       "      <td>127.000000</td>\n",
       "      <td>25.000000</td>\n",
       "      <td>1896.000000</td>\n",
       "    </tr>\n",
       "    <tr>\n",
       "      <th>25%</th>\n",
       "      <td>34643.000000</td>\n",
       "      <td>22.000000</td>\n",
       "      <td>170.000000</td>\n",
       "      <td>63.000000</td>\n",
       "      <td>1960.000000</td>\n",
       "    </tr>\n",
       "    <tr>\n",
       "      <th>50%</th>\n",
       "      <td>68205.000000</td>\n",
       "      <td>25.000000</td>\n",
       "      <td>174.985394</td>\n",
       "      <td>70.064714</td>\n",
       "      <td>1988.000000</td>\n",
       "    </tr>\n",
       "    <tr>\n",
       "      <th>75%</th>\n",
       "      <td>102097.250000</td>\n",
       "      <td>28.000000</td>\n",
       "      <td>180.000000</td>\n",
       "      <td>77.000000</td>\n",
       "      <td>2002.000000</td>\n",
       "    </tr>\n",
       "    <tr>\n",
       "      <th>max</th>\n",
       "      <td>135571.000000</td>\n",
       "      <td>97.000000</td>\n",
       "      <td>230.399522</td>\n",
       "      <td>214.000000</td>\n",
       "      <td>2016.000000</td>\n",
       "    </tr>\n",
       "  </tbody>\n",
       "</table>\n",
       "</div>"
      ],
      "text/plain": [
       "                  ID            Age         Height         Weight  \\\n",
       "count  271116.000000  271116.000000  271116.000000  271116.000000   \n",
       "mean    68248.954396      25.600403     175.280023      70.952865   \n",
       "std     39022.286345       6.286884       9.348598      12.804721   \n",
       "min         1.000000      10.000000     127.000000      25.000000   \n",
       "25%     34643.000000      22.000000     170.000000      63.000000   \n",
       "50%     68205.000000      25.000000     174.985394      70.064714   \n",
       "75%    102097.250000      28.000000     180.000000      77.000000   \n",
       "max    135571.000000      97.000000     230.399522     214.000000   \n",
       "\n",
       "                Year  \n",
       "count  271116.000000  \n",
       "mean     1978.378480  \n",
       "std        29.877632  \n",
       "min      1896.000000  \n",
       "25%      1960.000000  \n",
       "50%      1988.000000  \n",
       "75%      2002.000000  \n",
       "max      2016.000000  "
      ]
     },
     "execution_count": 15,
     "metadata": {},
     "output_type": "execute_result"
    }
   ],
   "source": [
    "#Use the describe method to check the numerical columns\n",
    "data.describe()"
   ]
  },
  {
   "cell_type": "markdown",
   "id": "21f1bb35",
   "metadata": {},
   "source": [
    "# Plot the histograms of the numerical columns using Pandas"
   ]
  },
  {
   "cell_type": "code",
   "execution_count": 16,
   "id": "31fc09d4",
   "metadata": {},
   "outputs": [],
   "source": [
    "import matplotlib.pyplot as plt"
   ]
  },
  {
   "cell_type": "code",
   "execution_count": 17,
   "id": "b8398fab",
   "metadata": {},
   "outputs": [
    {
     "data": {
      "image/png": "[encoded data removed]",
      "text/plain": [
       "<Figure size 720x432 with 6 Axes>"
      ]
     },
     "metadata": {
      "needs_background": "light"
     },
     "output_type": "display_data"
    }
   ],
   "source": [
    "data.hist(figsize=(10, 6))\n",
    "plt.suptitle(\"Histograms of Numerical Columns\", fontsize=16)\n",
    "plt.tight_layout()\n",
    "plt.show()"
   ]
  },
  {
   "cell_type": "code",
   "execution_count": 18,
   "id": "b068957a",
   "metadata": {},
   "outputs": [],
   "source": [
    "import seaborn as sns"
   ]
  },
  {
   "cell_type": "code",
   "execution_count": 19,
   "id": "cf6758b3",
   "metadata": {},
   "outputs": [
    {
     "data": {
      "image/png": "[encoded data removed]",
      "text/plain": [
       "<Figure size 576x432 with 1 Axes>"
      ]
     },
     "metadata": {
      "needs_background": "light"
     },
     "output_type": "display_data"
    }
   ],
   "source": [
    "# Plot histogram with a rug plot using Seaborn (20 bins)\n",
    "plt.figure(figsize=(8, 6))\n",
    "sns.histplot(data=data, x='Age', bins=20, kde=False, color='skyblue')\n",
    "sns.rugplot(data=data, x='Age', color='orange', height=0.02, alpha=0.7)\n",
    "plt.title(\"Histogram with Rug Plot (20 bins)\", fontsize=16)\n",
    "plt.xlabel(\"Age\")\n",
    "plt.ylabel(\"Count\")\n",
    "plt.show()"
   ]
  },
  {
   "cell_type": "code",
   "execution_count": 20,
   "id": "ce78a8c8",
   "metadata": {},
   "outputs": [
    {
     "data": {
      "image/png": "[encoded data removed]",
      "text/plain": [
       "<Figure size 576x432 with 1 Axes>"
      ]
     },
     "metadata": {
      "needs_background": "light"
     },
     "output_type": "display_data"
    }
   ],
   "source": [
    "# Plot histogram with a rug plot using Seaborn (50 bins)\n",
    "plt.figure(figsize=(8, 6))\n",
    "sns.histplot(data=data, x='Age', bins=50, kde=False, color='green')\n",
    "sns.rugplot(data=data, x='Age', color='red', height=0.02, alpha=0.7)\n",
    "plt.title(\"Histogram with Rug Plot (50 bins)\", fontsize=16)\n",
    "plt.xlabel(\"Age\")\n",
    "plt.ylabel(\"Count\")\n",
    "plt.show()"
   ]
  },
  {
   "cell_type": "code",
   "execution_count": 21,
   "id": "05c3efb6",
   "metadata": {},
   "outputs": [
    {
     "data": {
      "image/png": "[encoded data removed]",
      "text/plain": [
       "<Figure size 432x576 with 1 Axes>"
      ]
     },
     "metadata": {
      "needs_background": "light"
     },
     "output_type": "display_data"
    }
   ],
   "source": [
    "# Plot the boxplot of the \"Age\" column\n",
    "plt.figure(figsize=(6, 8))\n",
    "data.boxplot(column='Age')\n",
    "plt.title(\"Boxplot of Age\", fontsize=16)\n",
    "plt.ylabel(\"Age\")\n",
    "plt.show()"
   ]
  },
  {
   "cell_type": "code",
   "execution_count": 22,
   "id": "30b4088e",
   "metadata": {},
   "outputs": [
    {
     "data": {
      "image/png": "[encoded data removed]",
      "text/plain": [
       "<Figure size 432x576 with 1 Axes>"
      ]
     },
     "metadata": {
      "needs_background": "light"
     },
     "output_type": "display_data"
    }
   ],
   "source": [
    "# Plot the boxplot of the \"Age\" column using Seaborn\n",
    "plt.figure(figsize=(6, 8))\n",
    "sns.boxplot(data=data, y='Age', color='red')\n",
    "plt.title(\"Boxplot of Age\", fontsize=16)\n",
    "plt.ylabel(\"Age\")\n",
    "plt.show()"
   ]
  },
  {
   "cell_type": "code",
   "execution_count": 23,
   "id": "3d376e20",
   "metadata": {},
   "outputs": [
    {
     "name": "stdout",
     "output_type": "stream",
     "text": [
      "First Quartile (Q1): 22.0\n",
      "Third Quartile (Q3): 28.0\n",
      "Interquartile Range (IQR): 6.0\n"
     ]
    }
   ],
   "source": [
    "# Calculate the first quartile (Q1), third quartile (Q3), and interquartile range (IQR) of the \"Age\" column\n",
    "Q1 = data['Age'].quantile(0.25)\n",
    "Q3 = data['Age'].quantile(0.75)\n",
    "IQR = Q3 - Q1\n",
    "\n",
    "print(\"First Quartile (Q1):\", Q1)\n",
    "print(\"Third Quartile (Q3):\", Q3)\n",
    "print(\"Interquartile Range (IQR):\", IQR)"
   ]
  },
  {
   "cell_type": "code",
   "execution_count": 24,
   "id": "5f83fd6a",
   "metadata": {},
   "outputs": [
    {
     "name": "stdout",
     "output_type": "stream",
     "text": [
      "Lower Threshold for Outliers: 13.0\n",
      "Upper Threshold for Outliers: 37.0\n"
     ]
    }
   ],
   "source": [
    "# Calculate the lower and upper thresholds for outliers based on IQR\n",
    "lower_threshold = Q1 - 1.5 * IQR\n",
    "upper_threshold = Q3 + 1.5 * IQR\n",
    "\n",
    "print(\"Lower Threshold for Outliers:\", lower_threshold)\n",
    "print(\"Upper Threshold for Outliers:\", upper_threshold)"
   ]
  },
  {
   "cell_type": "markdown",
   "id": "1d771385",
   "metadata": {},
   "source": [
    "# What are the Sport for the athletes of really young age"
   ]
  },
  {
   "cell_type": "code",
   "execution_count": 25,
   "id": "c6bd4c25",
   "metadata": {},
   "outputs": [
    {
     "name": "stdout",
     "output_type": "stream",
     "text": [
      "9648            Swimming\n",
      "9649            Swimming\n",
      "9650            Swimming\n",
      "43468     Figure Skating\n",
      "46955             Rowing\n",
      "50291           Swimming\n",
      "50292           Swimming\n",
      "50293           Swimming\n",
      "50294           Swimming\n",
      "60911     Figure Skating\n",
      "73461             Rowing\n",
      "79024         Gymnastics\n",
      "79352     Figure Skating\n",
      "84361             Rowing\n",
      "85840           Swimming\n",
      "91910           Swimming\n",
      "91911           Swimming\n",
      "91912           Swimming\n",
      "91913           Swimming\n",
      "93850           Swimming\n",
      "94058     Figure Skating\n",
      "96236           Swimming\n",
      "96665     Figure Skating\n",
      "97086     Figure Skating\n",
      "101378    Figure Skating\n",
      "102916    Figure Skating\n",
      "108031    Figure Skating\n",
      "118048    Figure Skating\n",
      "120233          Swimming\n",
      "120234          Swimming\n",
      "126542    Figure Skating\n",
      "140650    Figure Skating\n",
      "142882        Gymnastics\n",
      "145150        Gymnastics\n",
      "148942        Gymnastics\n",
      "149033          Swimming\n",
      "152798    Figure Skating\n",
      "168941         Athletics\n",
      "168942         Athletics\n",
      "192507            Diving\n",
      "197894          Swimming\n",
      "197895          Swimming\n",
      "226019          Swimming\n",
      "236977          Swimming\n",
      "237141    Figure Skating\n",
      "249803            Rowing\n",
      "249804            Rowing\n",
      "251495        Gymnastics\n",
      "252230          Swimming\n",
      "252231          Swimming\n",
      "252232          Swimming\n",
      "252233          Swimming\n",
      "253662    Figure Skating\n",
      "Name: Sport, dtype: object\n"
     ]
    }
   ],
   "source": [
    "# Filter the \"Sport\" column based on outliers of lower values in the \"Age\" column\n",
    "filtered_sports = data[data['Age'] < lower_threshold]['Sport']\n",
    "\n",
    "print(filtered_sports)"
   ]
  },
  {
   "cell_type": "code",
   "execution_count": 26,
   "id": "2b7fab24",
   "metadata": {},
   "outputs": [
    {
     "name": "stdout",
     "output_type": "stream",
     "text": [
      "Swimming          25\n",
      "Figure Skating    15\n",
      "Rowing             5\n",
      "Gymnastics         5\n",
      "Athletics          2\n",
      "Diving             1\n",
      "Name: Sport, dtype: int64\n"
     ]
    }
   ],
   "source": [
    "# Filter the DataFrame to include only rows with low-valued outliers in the \"Age\" column\n",
    "low_age_outliers = data[data['Age'] < lower_threshold]\n",
    "\n",
    "# Get unique values of \"Sport\" and their counts for low-valued outliers in the \"Age\" column\n",
    "unique_sports_counts = low_age_outliers['Sport'].value_counts()\n",
    "\n",
    "print(unique_sports_counts)"
   ]
  },
  {
   "cell_type": "code",
   "execution_count": 27,
   "id": "587b48cf",
   "metadata": {},
   "outputs": [
    {
     "name": "stdout",
     "output_type": "stream",
     "text": [
      "['Art Competitions' 'Sailing' 'Shooting' 'Handball' 'Golf' 'Archery'\n",
      " 'Fencing' 'Hockey' 'Luge' 'Canoeing' 'Volleyball' 'Beach Volleyball'\n",
      " 'Athletics' 'Equestrianism' 'Tennis' 'Curling' 'Bobsleigh'\n",
      " 'Weightlifting' 'Ice Hockey' 'Triathlon' 'Rowing' 'Swimming' 'Polo'\n",
      " 'Snowboarding' 'Cricket' 'Skeleton' 'Basketball' 'Wrestling' 'Diving'\n",
      " 'Biathlon' 'Gymnastics' 'Cycling' 'Figure Skating' 'Water Polo'\n",
      " 'Table Tennis' 'Cross Country Skiing' 'Synchronized Swimming' 'Football'\n",
      " 'Ski Jumping' 'Tug-Of-War' 'Alpinism' 'Modern Pentathlon' 'Alpine Skiing'\n",
      " 'Baseball' 'Jeu De Paume' 'Judo' 'Softball' 'Speed Skating'\n",
      " 'Trampolining' 'Badminton' 'Motorboating' 'Freestyle Skiing' 'Boxing'\n",
      " 'Nordic Combined' 'Roque' 'Racquets' 'Croquet' 'Rugby']\n"
     ]
    }
   ],
   "source": [
    "# Filter the DataFrame to include only rows with high-valued outliers in the \"Age\" column\n",
    "high_age_outliers = data[data['Age'] > upper_threshold]\n",
    "\n",
    "# Get unique values of \"Sport\" for athletes of older age (high-valued outliers in the \"Age\" column)\n",
    "unique_sports_older_age = high_age_outliers['Sport'].unique()\n",
    "\n",
    "print(unique_sports_older_age)"
   ]
  },
  {
   "cell_type": "code",
   "execution_count": 28,
   "id": "6746c844",
   "metadata": {},
   "outputs": [
    {
     "name": "stdout",
     "output_type": "stream",
     "text": [
      "Shooting                 3178\n",
      "Art Competitions         2226\n",
      "Equestrianism            1997\n",
      "Sailing                  1040\n",
      "Fencing                  1031\n",
      "Athletics                 408\n",
      "Archery                   311\n",
      "Bobsleigh                 230\n",
      "Gymnastics                167\n",
      "Rowing                    122\n",
      "Cycling                    99\n",
      "Curling                    98\n",
      "Table Tennis               83\n",
      "Cross Country Skiing       81\n",
      "Biathlon                   78\n",
      "Canoeing                   71\n",
      "Tennis                     70\n",
      "Ice Hockey                 51\n",
      "Wrestling                  46\n",
      "Weightlifting              42\n",
      "Golf                       42\n",
      "Speed Skating              36\n",
      "Polo                       33\n",
      "Figure Skating             30\n",
      "Hockey                     29\n",
      "Handball                   29\n",
      "Water Polo                 29\n",
      "Luge                       26\n",
      "Alpine Skiing              25\n",
      "Skeleton                   23\n",
      "Beach Volleyball           16\n",
      "Tug-Of-War                 15\n",
      "Volleyball                 15\n",
      "Judo                       14\n",
      "Modern Pentathlon          13\n",
      "Swimming                   13\n",
      "Baseball                   11\n",
      "Football                    9\n",
      "Diving                      8\n",
      "Alpinism                    8\n",
      "Softball                    8\n",
      "Freestyle Skiing            8\n",
      "Ski Jumping                 8\n",
      "Basketball                  7\n",
      "Croquet                     6\n",
      "Badminton                   6\n",
      "Triathlon                   5\n",
      "Motorboating                4\n",
      "Snowboarding                4\n",
      "Jeu De Paume                4\n",
      "Boxing                      3\n",
      "Racquets                    2\n",
      "Cricket                     2\n",
      "Trampolining                2\n",
      "Synchronized Swimming       2\n",
      "Roque                       2\n",
      "Nordic Combined             1\n",
      "Rugby                       1\n",
      "Name: Sport, dtype: int64\n"
     ]
    }
   ],
   "source": [
    "# Filter the DataFrame to include only rows with high-valued outliers in the \"Age\" column\n",
    "high_age_outliers = data[data['Age'] > upper_threshold]\n",
    "\n",
    "# Get unique values of \"Sport\" and their counts for high-valued outliers in the \"Age\" column\n",
    "unique_sports_counts = high_age_outliers['Sport'].value_counts()\n",
    "\n",
    "print(unique_sports_counts)"
   ]
  },
  {
   "cell_type": "code",
   "execution_count": 29,
   "id": "7bda8ff1",
   "metadata": {},
   "outputs": [
    {
     "data": {
      "text/plain": [
       "ID        135571\n",
       "Name      134732\n",
       "Sex            2\n",
       "Age          785\n",
       "Height      2476\n",
       "Weight      3565\n",
       "Team        1184\n",
       "NOC          230\n",
       "Games         51\n",
       "Year          35\n",
       "Season         2\n",
       "City          42\n",
       "Sport         66\n",
       "Event        765\n",
       "Medal          4\n",
       "dtype: int64"
      ]
     },
     "execution_count": 29,
     "metadata": {},
     "output_type": "execute_result"
    }
   ],
   "source": [
    "# Check the number of unique values in each column\n",
    "data.nunique()"
   ]
  },
  {
   "cell_type": "code",
   "execution_count": 30,
   "id": "7d56f5ba",
   "metadata": {},
   "outputs": [
    {
     "data": {
      "text/html": [
       "<div>\n",
       "<style scoped>\n",
       "    .dataframe tbody tr th:only-of-type {\n",
       "        vertical-align: middle;\n",
       "    }\n",
       "\n",
       "    .dataframe tbody tr th {\n",
       "        vertical-align: top;\n",
       "    }\n",
       "\n",
       "    .dataframe thead th {\n",
       "        text-align: right;\n",
       "    }\n",
       "</style>\n",
       "<table border=\"1\" class=\"dataframe\">\n",
       "  <thead>\n",
       "    <tr style=\"text-align: right;\">\n",
       "      <th></th>\n",
       "      <th>Name</th>\n",
       "      <th>Sex</th>\n",
       "      <th>Team</th>\n",
       "      <th>NOC</th>\n",
       "      <th>Games</th>\n",
       "      <th>Season</th>\n",
       "      <th>City</th>\n",
       "      <th>Sport</th>\n",
       "      <th>Event</th>\n",
       "      <th>Medal</th>\n",
       "    </tr>\n",
       "  </thead>\n",
       "  <tbody>\n",
       "    <tr>\n",
       "      <th>count</th>\n",
       "      <td>271116</td>\n",
       "      <td>271116</td>\n",
       "      <td>271116</td>\n",
       "      <td>271116</td>\n",
       "      <td>271116</td>\n",
       "      <td>271116</td>\n",
       "      <td>271116</td>\n",
       "      <td>271116</td>\n",
       "      <td>271116</td>\n",
       "      <td>271116</td>\n",
       "    </tr>\n",
       "    <tr>\n",
       "      <th>unique</th>\n",
       "      <td>134732</td>\n",
       "      <td>2</td>\n",
       "      <td>1184</td>\n",
       "      <td>230</td>\n",
       "      <td>51</td>\n",
       "      <td>2</td>\n",
       "      <td>42</td>\n",
       "      <td>66</td>\n",
       "      <td>765</td>\n",
       "      <td>4</td>\n",
       "    </tr>\n",
       "    <tr>\n",
       "      <th>top</th>\n",
       "      <td>Robert Tait McKenzie</td>\n",
       "      <td>M</td>\n",
       "      <td>United States</td>\n",
       "      <td>USA</td>\n",
       "      <td>2000 Summer</td>\n",
       "      <td>Summer</td>\n",
       "      <td>London</td>\n",
       "      <td>Athletics</td>\n",
       "      <td>Football Men's Football</td>\n",
       "      <td>NA</td>\n",
       "    </tr>\n",
       "    <tr>\n",
       "      <th>freq</th>\n",
       "      <td>58</td>\n",
       "      <td>196594</td>\n",
       "      <td>17847</td>\n",
       "      <td>18853</td>\n",
       "      <td>13821</td>\n",
       "      <td>222552</td>\n",
       "      <td>22426</td>\n",
       "      <td>38624</td>\n",
       "      <td>5733</td>\n",
       "      <td>231333</td>\n",
       "    </tr>\n",
       "  </tbody>\n",
       "</table>\n",
       "</div>"
      ],
      "text/plain": [
       "                        Name     Sex           Team     NOC        Games  \\\n",
       "count                 271116  271116         271116  271116       271116   \n",
       "unique                134732       2           1184     230           51   \n",
       "top     Robert Tait McKenzie       M  United States     USA  2000 Summer   \n",
       "freq                      58  196594          17847   18853        13821   \n",
       "\n",
       "        Season    City      Sport                    Event   Medal  \n",
       "count   271116  271116     271116                   271116  271116  \n",
       "unique       2      42         66                      765       4  \n",
       "top     Summer  London  Athletics  Football Men's Football      NA  \n",
       "freq    222552   22426      38624                     5733  231333  "
      ]
     },
     "execution_count": 30,
     "metadata": {},
     "output_type": "execute_result"
    }
   ],
   "source": [
    "# Use the describe() method to check the non-numerical columns\n",
    "data.describe(include='object')"
   ]
  },
  {
   "cell_type": "code",
   "execution_count": 31,
   "id": "de88ea8c",
   "metadata": {},
   "outputs": [
    {
     "name": "stdout",
     "output_type": "stream",
     "text": [
      "\n",
      "Column: Name\n",
      "Robert Tait McKenzie            58\n",
      "Heikki Ilmari Savolainen        39\n",
      "Joseph \"Josy\" Stoffel           38\n",
      "Ioannis Theofilakis             36\n",
      "Takashi Ono                     33\n",
      "                                ..\n",
      "Henri Plocque                    1\n",
      "Mirza Najib Aga                  1\n",
      "Zouheir Al-Balah                 1\n",
      "Hadia Bentaleb                   1\n",
      "Yevgeny Yevganyevich Donskoy     1\n",
      "Name: Name, Length: 134732, dtype: int64\n",
      "\n",
      "Column: Sex\n",
      "M    196594\n",
      "F     74522\n",
      "Name: Sex, dtype: int64\n",
      "\n",
      "Column: Team\n",
      "United States    17847\n",
      "France           11988\n",
      "Great Britain    11404\n",
      "Italy            10260\n",
      "Germany           9326\n",
      "                 ...  \n",
      "Quando Quando        1\n",
      "Formosa              1\n",
      "Sunrise              1\n",
      "Whitini Star         1\n",
      "Kln                  1\n",
      "Name: Team, Length: 1184, dtype: int64\n",
      "\n",
      "Column: NOC\n",
      "USA    18853\n",
      "FRA    12758\n",
      "GBR    12256\n",
      "ITA    10715\n",
      "GER     9830\n",
      "       ...  \n",
      "YMD        5\n",
      "SSD        3\n",
      "UNK        2\n",
      "NBO        2\n",
      "NFL        1\n",
      "Name: NOC, Length: 230, dtype: int64\n",
      "\n",
      "Column: Games\n",
      "2000 Summer    13821\n",
      "1996 Summer    13780\n",
      "2016 Summer    13688\n",
      "2008 Summer    13602\n",
      "2004 Summer    13443\n",
      "1992 Summer    12977\n",
      "2012 Summer    12920\n",
      "1988 Summer    12037\n",
      "1972 Summer    10304\n",
      "1984 Summer     9454\n",
      "1976 Summer     8641\n",
      "1968 Summer     8588\n",
      "1952 Summer     8270\n",
      "1960 Summer     8119\n",
      "1964 Summer     7702\n",
      "1980 Summer     7191\n",
      "1936 Summer     6506\n",
      "1948 Summer     6405\n",
      "1924 Summer     5233\n",
      "1956 Summer     5127\n",
      "1928 Summer     4992\n",
      "2014 Winter     4891\n",
      "2010 Winter     4402\n",
      "2006 Winter     4382\n",
      "1920 Summer     4292\n",
      "2002 Winter     4109\n",
      "1912 Summer     4040\n",
      "1998 Winter     3605\n",
      "1992 Winter     3436\n",
      "1994 Winter     3160\n",
      "1908 Summer     3101\n",
      "1932 Summer     2969\n",
      "1988 Winter     2639\n",
      "1984 Winter     2134\n",
      "1900 Summer     1936\n",
      "1968 Winter     1891\n",
      "1976 Winter     1861\n",
      "1964 Winter     1778\n",
      "1980 Winter     1746\n",
      "1906 Summer     1733\n",
      "1972 Winter     1655\n",
      "1956 Winter     1307\n",
      "1904 Summer     1301\n",
      "1960 Winter     1116\n",
      "1952 Winter     1088\n",
      "1948 Winter     1075\n",
      "1936 Winter      895\n",
      "1928 Winter      582\n",
      "1924 Winter      460\n",
      "1896 Summer      380\n",
      "1932 Winter      352\n",
      "Name: Games, dtype: int64\n",
      "\n",
      "Column: Season\n",
      "Summer    222552\n",
      "Winter     48564\n",
      "Name: Season, dtype: int64\n",
      "\n",
      "Column: City\n",
      "London                    22426\n",
      "Athina                    15556\n",
      "Sydney                    13821\n",
      "Atlanta                   13780\n",
      "Rio de Janeiro            13688\n",
      "Beijing                   13602\n",
      "Barcelona                 12977\n",
      "Los Angeles               12423\n",
      "Seoul                     12037\n",
      "Munich                    10304\n",
      "Montreal                   8641\n",
      "Mexico City                8588\n",
      "Helsinki                   8270\n",
      "Roma                       8119\n",
      "Tokyo                      7702\n",
      "Moskva                     7191\n",
      "Paris                      7169\n",
      "Berlin                     6506\n",
      "Amsterdam                  4992\n",
      "Sochi                      4891\n",
      "Melbourne                  4829\n",
      "Vancouver                  4402\n",
      "Torino                     4382\n",
      "Stockholm                  4338\n",
      "Antwerpen                  4292\n",
      "Salt Lake City             4109\n",
      "Innsbruck                  3639\n",
      "Nagano                     3605\n",
      "Albertville                3436\n",
      "Lillehammer                3160\n",
      "Calgary                    2639\n",
      "Sarajevo                   2134\n",
      "Lake Placid                2098\n",
      "Grenoble                   1891\n",
      "Sankt Moritz               1657\n",
      "Sapporo                    1655\n",
      "Cortina d'Ampezzo          1307\n",
      "St. Louis                  1301\n",
      "Squaw Valley               1116\n",
      "Oslo                       1088\n",
      "Garmisch-Partenkirchen      895\n",
      "Chamonix                    460\n",
      "Name: City, dtype: int64\n",
      "\n",
      "Column: Sport\n",
      "Athletics        38624\n",
      "Gymnastics       26707\n",
      "Swimming         23195\n",
      "Shooting         11448\n",
      "Cycling          10859\n",
      "                 ...  \n",
      "Racquets            12\n",
      "Jeu De Paume        11\n",
      "Roque                4\n",
      "Basque Pelota        2\n",
      "Aeronautics          1\n",
      "Name: Sport, Length: 66, dtype: int64\n",
      "\n",
      "Column: Event\n",
      "Football Men's Football                                5733\n",
      "Ice Hockey Men's Ice Hockey                            4762\n",
      "Hockey Men's Hockey                                    3958\n",
      "Water Polo Men's Water Polo                            3358\n",
      "Basketball Men's Basketball                            3280\n",
      "                                                       ... \n",
      "Croquet Mixed Doubles                                     2\n",
      "Archery Men's Target Archery, 33 metres, Individual       2\n",
      "Sailing Mixed 18 foot                                     2\n",
      "Basque Pelota Men's Two-Man Teams With Cesta              2\n",
      "Aeronautics Mixed Aeronautics                             1\n",
      "Name: Event, Length: 765, dtype: int64\n",
      "\n",
      "Column: Medal\n",
      "NA        231333\n",
      "Gold       13372\n",
      "Bronze     13295\n",
      "Silver     13116\n",
      "Name: Medal, dtype: int64\n"
     ]
    }
   ],
   "source": [
    "# Get the list of non-numerical (categorical) columns\n",
    "non_numerical_columns = data.select_dtypes(include='object').columns.tolist()\n",
    "\n",
    "# Apply value_counts() for each non-numerical column\n",
    "for column in non_numerical_columns:\n",
    "    value_counts = data[column].value_counts()\n",
    "    print(f\"\\nColumn: {column}\")\n",
    "    print(value_counts)"
   ]
  },
  {
   "cell_type": "code",
   "execution_count": 32,
   "id": "7ddd12cd",
   "metadata": {},
   "outputs": [
    {
     "name": "stdout",
     "output_type": "stream",
     "text": [
      "                      ID                                     Name Sex  \\\n",
      "Sport                                                                   \n",
      "Aeronautics       107506                        Hermann Schreiber   M   \n",
      "Alpine Skiing      32818                                Reat Erce   M   \n",
      "Alpinism           74134             George Herbert Leigh Mallory   M   \n",
      "Archery            67722                                  Lecomte   M   \n",
      "Art Competitions   48741                       Konrad Hippenmeier   M   \n",
      "...                  ...                                      ...  ..   \n",
      "Tug-Of-War         86368                           August Nilsson   M   \n",
      "Volleyball         14306                 Georgi Spasov Boyadzhiev   M   \n",
      "Water Polo         74733  Auguste Jean Baptiste Louis Joseph Marc   M   \n",
      "Weightlifting      54456                   Alexander Viggo Jensen   M   \n",
      "Wrestling         122329                          Georgios Tsitas   M   \n",
      "\n",
      "                        Age      Height     Weight  \\\n",
      "Sport                                                \n",
      "Aeronautics       26.000000  174.589850  71.098704   \n",
      "Alpine Skiing     17.000000  172.439872  66.363800   \n",
      "Alpinism          37.000000  176.995160  76.867598   \n",
      "Archery           27.618564  174.310798  71.897326   \n",
      "Art Competitions  31.000000  175.339401  73.692785   \n",
      "...                     ...         ...        ...   \n",
      "Tug-Of-War        27.000000  174.161414  71.570173   \n",
      "Volleyball        21.000000  177.000000  76.000000   \n",
      "Water Polo        19.000000  172.250323  67.361369   \n",
      "Weightlifting     21.000000  172.653949  68.407500   \n",
      "Wrestling         27.721560  174.261334  71.945526   \n",
      "\n",
      "                                               Team  NOC        Games    Year  \\\n",
      "Sport                                                                           \n",
      "Aeronautics                             Switzerland  SUI  1936 Summer  1936.0   \n",
      "Alpine Skiing                                Turkey  TUR  1936 Winter  1936.0   \n",
      "Alpinism                              Great Britain  GBR  1924 Winter  1924.0   \n",
      "Archery                                      France  FRA  1900 Summer  1900.0   \n",
      "Art Competitions                        Switzerland  SUI  1912 Summer  1912.0   \n",
      "...                                             ...  ...          ...     ...   \n",
      "Tug-Of-War                           Denmark/Sweden  SWE  1900 Summer  1900.0   \n",
      "Volleyball                                 Bulgaria  BUL  1964 Summer  1964.0   \n",
      "Water Polo        Pupilles de Neptune de Lille #2-1  FRA  1900 Summer  1900.0   \n",
      "Weightlifting                               Denmark  DEN  1896 Summer  1896.0   \n",
      "Wrestling                                    Greece  GRE  1896 Summer  1896.0   \n",
      "\n",
      "                  Season                    City  \\\n",
      "Sport                                              \n",
      "Aeronautics       Summer                  Berlin   \n",
      "Alpine Skiing     Winter  Garmisch-Partenkirchen   \n",
      "Alpinism          Winter                Chamonix   \n",
      "Archery           Summer                   Paris   \n",
      "Art Competitions  Summer               Stockholm   \n",
      "...                  ...                     ...   \n",
      "Tug-Of-War        Summer                   Paris   \n",
      "Volleyball        Summer                   Tokyo   \n",
      "Water Polo        Summer                   Paris   \n",
      "Weightlifting     Summer                  Athina   \n",
      "Wrestling         Summer                  Athina   \n",
      "\n",
      "                                                         Event   Medal  \n",
      "Sport                                                                   \n",
      "Aeronautics                      Aeronautics Mixed Aeronautics    Gold  \n",
      "Alpine Skiing                     Alpine Skiing Men's Combined      NA  \n",
      "Alpinism                               Alpinism Mixed Alpinism    Gold  \n",
      "Archery                Archery Men's Au Cordon Dore, 50 metres      NA  \n",
      "Art Competitions           Art Competitions Mixed Architecture      NA  \n",
      "...                                                        ...     ...  \n",
      "Tug-Of-War                         Tug-Of-War Men's Tug-Of-War    Gold  \n",
      "Volleyball                         Volleyball Men's Volleyball      NA  \n",
      "Water Polo                         Water Polo Men's Water Polo  Bronze  \n",
      "Weightlifting          Weightlifting Men's Unlimited, One Hand  Silver  \n",
      "Wrestling         Wrestling Men's Unlimited Class, Greco-Roman  Silver  \n",
      "\n",
      "[66 rows x 14 columns]\n"
     ]
    }
   ],
   "source": [
    "# Sort the DataFrame by Year in ascending order\n",
    "data_sorted = data.sort_values(by='Year')\n",
    "\n",
    "# Group the sorted DataFrame by Sport and get the first record of each group\n",
    "first_record_per_sport = data_sorted.groupby('Sport').first()\n",
    "\n",
    "print(first_record_per_sport)"
   ]
  },
  {
   "cell_type": "code",
   "execution_count": 33,
   "id": "190d5985",
   "metadata": {},
   "outputs": [
    {
     "name": "stdout",
     "output_type": "stream",
     "text": [
      "Average Age of Olympic Athletes: 25.60040321070164\n",
      "Average Height of Olympic Athletes: 175.2800225855373\n",
      "Average Weight of Olympic Athletes: 70.95286484753301\n"
     ]
    }
   ],
   "source": [
    "# Calculate the average Age, Height, and Weight for all Olympic athletes\n",
    "average_age_all = data['Age'].mean()\n",
    "average_height_all = data['Height'].mean()\n",
    "average_weight_all = data['Weight'].mean()\n",
    "\n",
    "print(\"Average Age of Olympic Athletes:\", average_age_all)\n",
    "print(\"Average Height of Olympic Athletes:\", average_height_all)\n",
    "print(\"Average Weight of Olympic Athletes:\", average_weight_all)"
   ]
  },
  {
   "cell_type": "code",
   "execution_count": 34,
   "id": "1ff2d3bb",
   "metadata": {},
   "outputs": [
    {
     "name": "stdout",
     "output_type": "stream",
     "text": [
      "              Age                            Height                          \\\n",
      "              min       mean        max         min        mean         max   \n",
      "Year                                                                          \n",
      "2000.0  25.000000  25.000000  25.000000  165.000000  165.000000  165.000000   \n",
      "2001.0  31.666667  31.666667  31.666667  175.666667  175.666667  175.666667   \n",
      "2001.5  35.000000  35.000000  35.000000  175.000000  175.000000  175.000000   \n",
      "2002.0  30.000000  35.000000  40.000000  178.571429  179.285714  180.000000   \n",
      "2004.0  32.333333  32.333333  32.333333  173.666667  173.666667  173.666667   \n",
      "\n",
      "           Weight                        \n",
      "              min       mean        max  \n",
      "Year                                     \n",
      "2000.0  60.000000  60.000000  60.000000  \n",
      "2001.0  70.000000  70.000000  70.000000  \n",
      "2001.5  80.000000  80.000000  80.000000  \n",
      "2002.0  76.800000  83.400000  90.000000  \n",
      "2004.0  80.076923  80.076923  80.076923  \n"
     ]
    }
   ],
   "source": [
    "# Sample DataFrame with imputed values\n",
    "data = pd.DataFrame({\n",
    "    'Year': [2000.0, 2001.0, 2002.0, 2001.5, 2004.0, 2002.0],\n",
    "    'Age': [25.0, 31.66666667, 30.0, 35.0, 32.33333333, 40.0],\n",
    "    'Height': [165.0, 175.66666667, 180.0, 175.0, 173.66666667, 178.57142857],\n",
    "    'Weight': [60.0, 70.0, 76.8, 80.0, 80.07692308, 90.0],\n",
    "    'Medal': ['Gold', 'Silver', 'NA', 'Bronze', 'NA', 'NA'],\n",
    "    'Sport': ['Football', 'Tennis', 'Swimming', 'Football', 'Tennis', 'Swimming']\n",
    "})\n",
    "\n",
    "# Group the data by \"Year\" and calculate the minimum, average, and maximum Age, Height, and Weight for each year\n",
    "statistics_by_year = data.groupby('Year').agg({'Age': ['min', 'mean', 'max'],\n",
    "                                               'Height': ['min', 'mean', 'max'],\n",
    "                                               'Weight': ['min', 'mean', 'max']})\n",
    "\n",
    "print(statistics_by_year)"
   ]
  },
  {
   "cell_type": "markdown",
   "id": "2899f41b",
   "metadata": {},
   "source": [
    "# Plot the scatterplot of Height and Weight"
   ]
  },
  {
   "cell_type": "code",
   "execution_count": 37,
   "id": "54e8539c",
   "metadata": {},
   "outputs": [
    {
     "data": {
      "image/png": "[encoded data removed]",
      "text/plain": [
       "<Figure size 432x288 with 1 Axes>"
      ]
     },
     "metadata": {
      "needs_background": "light"
     },
     "output_type": "display_data"
    }
   ],
   "source": [
    "# Sample data\n",
    "np.random.seed(42)\n",
    "num_samples = 100\n",
    "heights_male = np.random.normal(180, 7, num_samples)\n",
    "weights_male = np.random.normal(75, 5, num_samples)\n",
    "\n",
    "heights_female = np.random.normal(165, 6, num_samples)\n",
    "weights_female = np.random.normal(60, 4, num_samples)\n",
    "\n",
    "# Create a scatter plot with different colors and styles for each sex\n",
    "plt.figure()\n",
    "\n",
    "# Plot male athletes with blue color and square markers\n",
    "plt.scatter(heights_male, weights_male, c='blue', marker='s', label='Male', alpha=0.5)\n",
    "\n",
    "# Plot female athletes with red color and circle markers\n",
    "plt.scatter(heights_female, weights_female, c='red', marker='o', label='Female', alpha=0.5)\n",
    "\n",
    "plt.xlabel('Height (cm)')\n",
    "plt.ylabel('Weight (kg)')\n",
    "plt.title('Scatter Plot of Height and Weight by Sex')\n",
    "plt.legend()\n",
    "plt.grid(True)\n",
    "plt.show()"
   ]
  },
  {
   "cell_type": "code",
   "execution_count": 49,
   "id": "4623057e",
   "metadata": {},
   "outputs": [
    {
     "data": {
      "image/png": "[encoded data removed]",
      "text/plain": [
       "<Figure size 540x540 with 12 Axes>"
      ]
     },
     "metadata": {
      "needs_background": "light"
     },
     "output_type": "display_data"
    }
   ],
   "source": [
    "# Convert the list of dictionaries to a DataFrame\n",
    "df = pd.DataFrame(data)\n",
    "\n",
    "# Extract Age, Height, and Weight columns for plotting\n",
    "columns_to_plot = ['Age', 'Height', 'Weight']\n",
    "\n",
    "# Create the pairwise scatter plot\n",
    "sns.pairplot(df[columns_to_plot])\n",
    "plt.show()"
   ]
  },
  {
   "cell_type": "code",
   "execution_count": 48,
   "id": "f5fe1125",
   "metadata": {},
   "outputs": [
    {
     "name": "stdout",
     "output_type": "stream",
     "text": [
      "             Age    Height    Weight\n",
      "Age     1.000000  0.670101  0.928347\n",
      "Height  0.670101  1.000000  0.760526\n",
      "Weight  0.928347  0.760526  1.000000\n"
     ]
    }
   ],
   "source": [
    "# Convert the list of dictionaries to a DataFrame\n",
    "df = pd.DataFrame(data)\n",
    "\n",
    "# Extract Age, Height, and Weight columns for correlation\n",
    "columns_for_correlation = ['Age', 'Height', 'Weight']\n",
    "\n",
    "# Calculate the correlation matrix\n",
    "correlation_matrix = df[columns_for_correlation].corr()\n",
    "\n",
    "# Print the correlation matrix\n",
    "print(correlation_matrix)"
   ]
  },
  {
   "cell_type": "code",
   "execution_count": 45,
   "id": "f7551165",
   "metadata": {},
   "outputs": [
    {
     "data": {
      "image/png": "[encoded data removed]",
      "text/plain": [
       "<Figure size 576x432 with 2 Axes>"
      ]
     },
     "metadata": {
      "needs_background": "light"
     },
     "output_type": "display_data"
    }
   ],
   "source": [
    "# Convert the list of dictionaries to a DataFrame\n",
    "df = pd.DataFrame(data)\n",
    "\n",
    "# Extract Age, Height, and Weight columns for correlation\n",
    "columns_for_correlation = ['Age', 'Height', 'Weight']\n",
    "\n",
    "# Calculate the correlation matrix\n",
    "correlation_matrix = df[columns_for_correlation].corr()\n",
    "\n",
    "# Create a heatmap with the 'crest' colormap\n",
    "plt.figure(figsize=(8, 6))\n",
    "sns.heatmap(correlation_matrix, annot=True, cmap='crest', fmt='.2f', linewidths=0.5)\n",
    "plt.title('Correlation Matrix')\n",
    "plt.show()"
   ]
  },
  {
   "cell_type": "code",
   "execution_count": 46,
   "id": "9ef1d773",
   "metadata": {},
   "outputs": [
    {
     "data": {
      "image/png": "[encoded data removed]",
      "text/plain": [
       "<Figure size 720x432 with 1 Axes>"
      ]
     },
     "metadata": {
      "needs_background": "light"
     },
     "output_type": "display_data"
    }
   ],
   "source": [
    "# Create the boxplot\n",
    "plt.figure(figsize=(10, 6))\n",
    "sns.boxplot(data=df, x='Year', y='Age', palette='viridis')\n",
    "plt.xlabel('Year')\n",
    "plt.ylabel('Age')\n",
    "plt.title('Distribution of Age Across Years')\n",
    "plt.grid(True)\n",
    "plt.show()"
   ]
  },
  {
   "cell_type": "code",
   "execution_count": 47,
   "id": "85f51b6e",
   "metadata": {},
   "outputs": [
    {
     "data": {
      "image/png": "[encoded data removed]",
      "text/plain": [
       "<Figure size 720x432 with 1 Axes>"
      ]
     },
     "metadata": {
      "needs_background": "light"
     },
     "output_type": "display_data"
    }
   ],
   "source": [
    "# Create the violin plot\n",
    "plt.figure(figsize=(10, 6))\n",
    "sns.violinplot(data=df, x='Year', y='Age', palette='magma')\n",
    "plt.xlabel('Year')\n",
    "plt.ylabel('Age')\n",
    "plt.title('Distribution of Age for different')\n",
    "plt.grid(True)\n",
    "plt.show()"
   ]
  }
 ],
 "metadata": {
  "kernelspec": {
   "display_name": "Python 3",
   "language": "python",
   "name": "python3"
  },
  "language_info": {
   "codemirror_mode": {
    "name": "ipython",
    "version": 3
   },
   "file_extension": ".py",
   "mimetype": "text/x-python",
   "name": "python",
   "nbconvert_exporter": "python",
   "pygments_lexer": "ipython3",
   "version": "3.8.8"
  }
 },
 "nbformat": 4,
 "nbformat_minor": 5
}
